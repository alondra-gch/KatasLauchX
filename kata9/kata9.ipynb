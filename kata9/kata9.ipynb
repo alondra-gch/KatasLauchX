{
 "cells": [
  {
   "cell_type": "markdown",
   "metadata": {},
   "source": [
    "# Ej.1 Uso de funciones en Python"
   ]
  },
  {
   "cell_type": "markdown",
   "metadata": {},
   "source": [
    "### Trabajar con argumentos en funciones\n",
    "\n",
    "#### Los argumentos requeridos en las funciones se utilizan cuando las funciones necesitan que esos argumentos funcionen correctamente. En este ejercicio, construirás un informe de combustible que requiere información de varias ubicaciones de combustible en todo el cohete.\n"
   ]
  },
  {
   "cell_type": "markdown",
   "metadata": {},
   "source": [
    "##### Comienza por crear una función que necesite tres lecturas de combustible y devuelva un informe:"
   ]
  },
  {
   "cell_type": "markdown",
   "metadata": {},
   "source": [
    "##### Función para leer 3 tanques de combustible y muestre el promedio"
   ]
  },
  {
   "cell_type": "code",
   "execution_count": 4,
   "metadata": {},
   "outputs": [],
   "source": [
    "def generar_reporte(tanque_principal, tanque_externo, tanque_hidrogeno):\n",
    "    promedio_total = (tanque_principal + tanque_externo + tanque_hidrogeno) / 3\n",
    "    return f\"\"\"Fuel Report:\n",
    "    Promedio Total: {promedio_total}%\n",
    "    Tanque Principal: {tanque_principal}%\n",
    "    Tanque Externo: {tanque_externo}%\n",
    "    Tanque de Hidrogeno: {tanque_hidrogeno}% \n",
    "    \"\"\""
   ]
  },
  {
   "cell_type": "markdown",
   "metadata": {},
   "source": [
    "##### Llamamos a la función que genera el reporte print(funcion(tanque1, tanque2, tanque3))"
   ]
  },
  {
   "cell_type": "code",
   "execution_count": 11,
   "metadata": {},
   "outputs": [],
   "source": [
    "def generar_reporte(tanque_principal, tanque_externo, tanque_hidrogeno):\n",
    "    promedio_total = (tanque_principal + tanque_externo + tanque_hidrogeno) / 3\n",
    "    return f\"\"\"Informe de combustible:\n",
    "    Promedio Total: {promedio_total}%\n",
    "    Tanque Principal: {tanque_principal}%\n",
    "    Tanque Externo: {tanque_externo}%\n",
    "    Tanque de Hidrogeno: {tanque_hidrogeno}% \n",
    "    \"\"\"\n",
    "\n",
    "    print(generar_reporte(80, 70, 85))"
   ]
  },
  {
   "cell_type": "markdown",
   "metadata": {},
   "source": [
    "##### Función promedio "
   ]
  },
  {
   "cell_type": "code",
   "execution_count": 12,
   "metadata": {},
   "outputs": [
    {
     "name": "stdout",
     "output_type": "stream",
     "text": [
      "Informe de combustible:\n",
      "    Promedio Total: 78.33333333333333%\n",
      "    Tanque Principal: 80%\n",
      "    Tanque Externo: 70%\n",
      "    Tanque de Hidrogeno: 85% \n",
      "    \n"
     ]
    },
    {
     "data": {
      "text/plain": [
       "82.0"
      ]
     },
     "execution_count": 12,
     "metadata": {},
     "output_type": "execute_result"
    }
   ],
   "source": [
    "def generar_reporte(tanque_principal, tanque_externo, tanque_hidrogeno):\n",
    "    promedio_total = (tanque_principal + tanque_externo + tanque_hidrogeno) / 3\n",
    "    return f\"\"\"Informe de combustible:\n",
    "    Promedio Total: {promedio_total}%\n",
    "    Tanque Principal: {tanque_principal}%\n",
    "    Tanque Externo: {tanque_externo}%\n",
    "    Tanque de Hidrogeno: {tanque_hidrogeno}% \n",
    "    \"\"\"\n",
    "print(generar_reporte(80, 70, 85))\n",
    "\n",
    "def average(values):\n",
    "    total = sum(values)\n",
    "    number_of_items = len(values)\n",
    "    return total / number_of_items\n",
    "\n",
    "average([80, 85, 81]) "
   ]
  },
  {
   "cell_type": "markdown",
   "metadata": {},
   "source": [
    "##### Actualiza la función"
   ]
  },
  {
   "cell_type": "code",
   "execution_count": 14,
   "metadata": {},
   "outputs": [
    {
     "name": "stdout",
     "output_type": "stream",
     "text": [
      "Informe de combustible:\n",
      "    Promedio Total: 78.0%\n",
      "    Tanque Principal: 88%\n",
      "    Tanque Externo: 76%\n",
      "    Tanque de Hidrogeno: 70% \n",
      "    \n"
     ]
    }
   ],
   "source": [
    "def generar_reporte(tanque_principal, tanque_externo, tanque_hidrogeno):\n",
    "    return f\"\"\"Informe de combustible:\n",
    "    Promedio Total: {average([tanque_principal, tanque_externo, tanque_hidrogeno])}%\n",
    "    Tanque Principal: {tanque_principal}%\n",
    "    Tanque Externo: {tanque_externo}%\n",
    "    Tanque de Hidrogeno: {tanque_hidrogeno}% \n",
    "    \"\"\"\n",
    "\n",
    "print(generar_reporte(88, 76, 70))"
   ]
  },
  {
   "cell_type": "markdown",
   "metadata": {},
   "source": [
    "# Ej.2 Trabajo con argumentos de palabra clave"
   ]
  },
  {
   "cell_type": "markdown",
   "metadata": {},
   "source": [
    "### Trabajar con argumentos de palabras clave en funciones"
   ]
  },
  {
   "cell_type": "markdown",
   "metadata": {},
   "source": [
    "##### En este ejercicio, construirás un informe de cohete que requiere varias piezas de información, como el tiempo hasta el destino, el combustible a la izquierda y el nombre del destino. Comienza por crear una función que creará un informe preciso de la misión:"
   ]
  },
  {
   "cell_type": "markdown",
   "metadata": {},
   "source": [
    "##### Función con un informe preciso de la misión. Considera hora de prelanzamiento, tiempo de vuelo, destino, tanque externo y tanque interno"
   ]
  },
  {
   "cell_type": "code",
   "execution_count": 18,
   "metadata": {},
   "outputs": [
    {
     "name": "stdout",
     "output_type": "stream",
     "text": [
      "\n",
      "    Misión a Luna\n",
      "    Tiempo total del viaje: 65 minutos\n",
      "    Combustible total restante: 500000 galones\n",
      "    \n"
     ]
    }
   ],
   "source": [
    "def informe_mision(hora_pre_lanzamiento, hora_vuelo, destino, tanque_externo, tanque_principal):\n",
    "    return f\"\"\"\n",
    "    Misión a {destino}\n",
    "    Tiempo total del viaje: {hora_pre_lanzamiento + hora_vuelo} minutos\n",
    "    Combustible total restante: {tanque_externo + tanque_principal} galones\n",
    "    \"\"\"\n",
    "\n",
    "print(informe_mision(14, 51, \"Luna\", 200000, 300000))"
   ]
  },
  {
   "cell_type": "markdown",
   "metadata": {},
   "source": [
    "#### La función es problemática porque no se puede adaptar para minutos adicionales o tanques adicionales de combustible. Hazlo más flexible permitiendo cualquier número de pasos basados en el tiempo y cualquier número de tanques. En lugar de usar *args y **kwargs, aprovecha el hecho de que puedes usar cualquier nombre que desees. Asegurate que la función sea más legible mediante el uso de nombres de variables que están asociados con las entradas, como *minutes y **fuel_reservoirs:"
   ]
  },
  {
   "cell_type": "markdown",
   "metadata": {},
   "source": [
    "##### Escribe tu nueva función de reporte considerando lo anterior"
   ]
  },
  {
   "cell_type": "code",
   "execution_count": 21,
   "metadata": {},
   "outputs": [
    {
     "name": "stdout",
     "output_type": "stream",
     "text": [
      "\n",
      "    Misión a Luna\n",
      "    Tiempo total del viaje: 65 minutos\n",
      "    Combustible total restante: 500000 galones\n",
      "    \n",
      "\n",
      "    Misión a Luna\n",
      "    Tiempo total del viaje: 76 minutos\n",
      "    Combustible total restante: 500000\n",
      "    \n"
     ]
    }
   ],
   "source": [
    "def informe_mision(hora_pre_lanzamiento, hora_vuelo, destino, tanque_externo, tanque_principal):\n",
    "    return f\"\"\"\n",
    "    Misión a {destino}\n",
    "    Tiempo total del viaje: {hora_pre_lanzamiento + hora_vuelo} minutos\n",
    "    Combustible total restante: {tanque_externo + tanque_principal} galones\n",
    "    \"\"\"\n",
    "\n",
    "print(informe_mision(14, 51, \"Luna\", 200000, 300000))\n",
    "\n",
    "def informe_mision(destino, *minutos, **combustible_reserva):\n",
    "    return f\"\"\"\n",
    "    Misión a {destino}\n",
    "    Tiempo total del viaje: {sum(minutos)} minutos\n",
    "    Combustible total restante: {sum(combustible_reserva.values())}\n",
    "    \"\"\"\n",
    "\n",
    "print(informe_mision(\"Luna\", 10, 15, 51, principal=300000, externo=200000))"
   ]
  },
  {
   "cell_type": "markdown",
   "metadata": {},
   "source": [
    "#### Debido a que el combustible que queda en los tanques es específico de cada tanque, actualiza la función para usar el nombre de cada tanque en el informe:\n",
    "\n",
    "##### Escribe tu nueva función"
   ]
  },
  {
   "cell_type": "code",
   "execution_count": 24,
   "metadata": {},
   "outputs": [
    {
     "name": "stdout",
     "output_type": "stream",
     "text": [
      "\n",
      "    Misión a Luna\n",
      "    Tiempo total del viaje: 74 minutos\n",
      "    Combustible total restante: 500000\n",
      "    principal tanque --> 300000 aún quedan galones\n",
      "externo tanque --> 200000 aún quedan galones\n",
      "\n"
     ]
    }
   ],
   "source": [
    "def informe_mision(destino, *minutos, **combustible_reserva):\n",
    "    reporte_principal = f\"\"\"\n",
    "    Misión a {destino}\n",
    "    Tiempo total del viaje: {sum(minutos)} minutos\n",
    "    Combustible total restante: {sum(combustible_reserva.values())}\n",
    "    \"\"\"\n",
    "    for nombre_del_tanque, galones in combustible_reserva.items():\n",
    "        reporte_principal += f\"{nombre_del_tanque} tanque --> {galones} aún quedan galones\\n\"\n",
    "    return reporte_principal\n",
    "\n",
    "print(informe_mision(\"Luna\", 8, 11, 55, principal=300000, externo=200000))"
   ]
  }
 ],
 "metadata": {
  "interpreter": {
   "hash": "05c6bfb483753a5906ad85d288e5bc9eb45180e61adab0964f4cc1c2feff30bd"
  },
  "kernelspec": {
   "display_name": "Python 3.10.2 64-bit",
   "language": "python",
   "name": "python3"
  },
  "language_info": {
   "codemirror_mode": {
    "name": "ipython",
    "version": 3
   },
   "file_extension": ".py",
   "mimetype": "text/x-python",
   "name": "python",
   "nbconvert_exporter": "python",
   "pygments_lexer": "ipython3",
   "version": "3.10.2"
  },
  "orig_nbformat": 4
 },
 "nbformat": 4,
 "nbformat_minor": 2
}
